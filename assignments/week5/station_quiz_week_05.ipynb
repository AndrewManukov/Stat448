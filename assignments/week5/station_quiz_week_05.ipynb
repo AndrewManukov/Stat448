{
 "cells": [
  {
   "cell_type": "markdown",
   "metadata": {},
   "source": [
    "## Station Quiz - Week 5\n",
    "\n",
    "Grading Rubric (per question):  \n",
    "2 points if complete and correct  \n",
    "1 point if incomplete or incorrect  \n",
    "0 points if no attempt made  \n",
    "\n",
    "The following questions should be completed with your mates at the station you decided to sit at today. Your station should designate one person to be the one who submits (commits/pushes) the answers to the quiz in their repo. We'll call this person the **designated submitter**. You all have 50 minutes (i.e. the end of class) to complete these questions. Do not change anything in this file above the line.\n",
    "\n",
    "***\n",
    "\n",
    "**#0** Pull this ipynb file from your respective **assignments_section_sp20** repo; either **assignments_section2_sp20** or **assignments_section3_sp20**. Copy it into your personal repo to begin answering the questions, but rename the file as station_quiz_week_04_Netid.ipynb with your Netid. (GitHub)\n",
    "\n",
    "**#1** Using Markdown syntax (not SAS syntax), make a list of the first and last names all mates (including yourself) at your station, and write the designated submitter's name in **bold** font. (Markdown)  "
   ]
  },
  {
   "cell_type": "code",
   "execution_count": null,
   "metadata": {},
   "outputs": [],
   "source": []
  },
  {
   "cell_type": "markdown",
   "metadata": {},
   "source": [
    "**#2** Using the visualization below, describe what's happening in the plot and the relationship among the variables in it.\n",
    "![](https://uofi.box.com/shared/static/eiywdqla5l5dqsbz3mblbrj0kxbcnn37.png)\n"
   ]
  },
  {
   "cell_type": "code",
   "execution_count": null,
   "metadata": {},
   "outputs": [],
   "source": []
  },
  {
   "cell_type": "markdown",
   "metadata": {},
   "source": [
    "**#3**  Now, physically move to another station and ask one person the same questions in **Problem 2** (above). Write down their first and last name as well as their answers to those questions get credit for this **Problem 3** with Markdown syntax.  "
   ]
  },
  {
   "cell_type": "code",
   "execution_count": null,
   "metadata": {},
   "outputs": [],
   "source": []
  },
  {
   "cell_type": "markdown",
   "metadata": {},
   "source": [
    "**#4** Look through the *data key* (see datasets.html on course website) to get more familiar with the data. Run the code below to import and merge the US Natality Data's first 3 parts such that it:  \n",
    "  - creates a new variable called \"congenital_anomaly_bin\" which equals 1 if a newborn has any of the 12 congenital anomalies (CA_ANEN, CA_MNSB, CA_CCHD, CA_CDH, CA_OMPH, CA_GAST, CA_LIMB, CA_CLEFT, CA_CLPAL, CA_DOWN, CA_DISOR, CA_HYPO) and equals 0 otherwise\n",
    "  - creates a new variable called \"dbwtlbs\" which is the baby's birth weight (DBWT) in pounds\n",
    "  - keeps only the following variables: obstetric estimate recode 3 (OEGest_R3), baby's assigned sex (SEX), mother's age (MAGER), father's age (FAGECOMB), mother's education level (MEDUC), father's education level (FEDUC), number of prenatal care visits (PREVIS_REC), whether mother smoked cigarettes ever (CIG_REC), mother's weight gain in pounds (WTGAIN), delivery method (DMETH_REC), congenital_anomaly_bin, and dbwtlbs\n",
    "  - removes all unknown or unstated values from the kept variables\n",
    "  - filters on twins\n",
    "  - rename the data object as \"birtha\". (SAS, Accessing and Importing Data, Data Wrangling)\n",
    "\n",
    "```\n",
    "options nosource nonotes errors=0;\n",
    "filename nat1 url \"https://uofi.box.com/shared/static/gb07nz7jafspk65wzxq6awlu02kypiq7.csv\" termstr=crlf;\n",
    "filename nat2 url \"https://uofi.box.com/shared/static/kr2s5wp3jpxdlpcjmq2qs15oo4797u4y.csv\" termstr=crlf;\n",
    "filename nat3 url \"https://uofi.box.com/shared/static/hwsoobqngb8zfyjbwxvmrejjz1lg3yeh.csv\" termstr=crlf;\n",
    "proc import datafile=nat1 out=birth01(keep = dplural CA_ANEN CA_MNSB CA_CCHD CA_CDH CA_OMPH CA_GAST CA_LIMB CA_CLEFT CA_CLPAL CA_DOWN CA_DISOR CA_HYPO OEGest_R3 SEX MAGER FAGECOMB MEDUC FEDUC PREVIS_REC CIG_REC WTGAIN DMETH_REC dbwt) replace dbms=csv; \n",
    "run;\n",
    "proc import datafile=nat2 out=birth02(keep = dplural CA_ANEN CA_MNSB CA_CCHD CA_CDH CA_OMPH CA_GAST CA_LIMB CA_CLEFT CA_CLPAL CA_DOWN CA_DISOR CA_HYPO OEGest_R3 SEX MAGER FAGECOMB MEDUC FEDUC PREVIS_REC CIG_REC WTGAIN DMETH_REC dbwt) replace dbms=csv; \n",
    "run;\n",
    "proc import datafile=nat3 out=birth03(keep = dplural CA_ANEN CA_MNSB CA_CCHD CA_CDH CA_OMPH CA_GAST CA_LIMB CA_CLEFT CA_CLPAL CA_DOWN CA_DISOR CA_HYPO OEGest_R3 SEX MAGER FAGECOMB MEDUC FEDUC PREVIS_REC CIG_REC WTGAIN DMETH_REC dbwt) replace dbms=csv; \n",
    "run;\n",
    "data birtha;\n",
    " set birth01 birth02 birth03;\n",
    " dbwtlbs = dbwt/454;\n",
    " if CA_ANEN='Y' or CA_MNSB='Y' or CA_CCHD='Y' or CA_CDH='Y' or CA_OMPH='Y' or CA_GAST='Y' or CA_LIMB='Y' or CA_CLEFT='Y' or CA_CLPAL='Y' or CA_DOWN='C' or CA_DISOR='C' or CA_HYPO='Y' then congenital_anomaly_bin=1;\n",
    "  else congenital_anomaly_bin=0;\n",
    " if dplural=2 and dbwt ne 9999 and OEGest_R3 ne 3 and FAGECOMB ne 99 and MEDUC ne 9 and FEDUC ne 9 and PREVIS_REC ne 9 and wtgain ne 99 and dmeth_rec ne 9;\n",
    " keep dplural OEGest_R3 SEX MAGER FAGECOMB MEDUC FEDUC PREVIS_REC CIG_REC WTGAIN DMETH_REC congenital_anomaly_bin dbwtlbs;\n",
    "run;\n",
    "options source notes errors=20;\n",
    "```\n",
    "\n",
    "To get credit for this problem all you have to do is run the code above and print the first 10 observations of birtha with only the variables: sex, dbwtlbs, and oegest_r3."
   ]
  },
  {
   "cell_type": "code",
   "execution_count": null,
   "metadata": {},
   "outputs": [],
   "source": []
  },
  {
   "cell_type": "markdown",
   "metadata": {},
   "source": [
    "**#5** According to the Mayo Clinic, \"a premature birth is one that occurs before the start of the 37th week of pregnancy.\" The new gestational age standard for the NCHS is the obstetric estimate of gestation at delivery (OE). The variable of interest in the birtha data for determining if a baby is born prematurely is the obstetric estimate recode 3 (OEGest_R3).\n",
    "\n",
    "With SAS, create a new subset of the birtha data called \"premies\" that: \n",
    "  - sorts the data by baby's birth weight (dbwtlbs) in ascending order\n",
    "  - filters so that we only keep observations that have obstetric estimates under 37 weeks (OEGest_R3).\n",
    "\n",
    "Now, print the first 10 observations of premies with only the variables: sex, dbwtlbs, oegest_r3. *Be sure to use the options statement to prevent extaneous SAS output for your data step.* (SAS, Data Wrangling)  "
   ]
  },
  {
   "cell_type": "code",
   "execution_count": null,
   "metadata": {},
   "outputs": [],
   "source": []
  },
  {
   "cell_type": "markdown",
   "metadata": {},
   "source": [
    "**#6** Using SAS code and beginning with the premies data in **Problem 5**, compare the distributions of the birth weight in pounds (dbwtlbs) for male and female (SEX) premies. Describe the distributions and and whether they deviate strongly from normality or not by using a histogram for each sex. *You must use ods select which forces SAS to only show the histogram to get full credit for this problem.* (SAS, Data Descriptives, Data Visualization, Markdown)"
   ]
  },
  {
   "cell_type": "code",
   "execution_count": null,
   "metadata": {},
   "outputs": [],
   "source": []
  },
  {
   "cell_type": "markdown",
   "metadata": {},
   "source": [
    "**#7** Using SAS code and beginning with the premies data in **Problem 5**, fit a \"best\" linear regression model to predict baby's birth weight in pounds (dbwtlbs) with the following predictors: mother's age (MAGER), father's age (FAGECOMB), and mother's weight gain in pounds (WTGAIN). \n",
    "\n",
    "*The \"best\" means you should choose among a set of models either manually, using a criterion, or automatic selection. congenital_anomaly_bin should be not be treated as a categorical predictor. Do not partition the data into training and testing sets.*\n",
    "\n",
    "What is the model telling us? Describe the results of the model and how good it is at predicting a baby's birth weight. (SAS, GLM - Linear Regression, Data Visualization, Markdown)"
   ]
  },
  {
   "cell_type": "code",
   "execution_count": null,
   "metadata": {},
   "outputs": [],
   "source": []
  },
  {
   "cell_type": "markdown",
   "metadata": {},
   "source": [
    "**#8** Using SAS code and beginning with the birtha data's variables mager, fagecomb, wtgain, and dbwtlbs in **Problem 4**, recreate the data visualization below. *You must use ods select which forces SAS to only show the plot to get full credit for this problem..* (SAS, Principal Components Analysis, Data Visualization, Markdown)\n",
    "\n",
    "![](https://uofi.box.com/shared/static/af2thlxoagp7nzrydllf8e64xtodk0xl.png)"
   ]
  },
  {
   "cell_type": "code",
   "execution_count": null,
   "metadata": {},
   "outputs": [],
   "source": []
  },
  {
   "cell_type": "markdown",
   "metadata": {},
   "source": [
    "**#9** Using SAS code and beginning with the birtha data in **Problem 4**, fit a \"best\" logistic regression model to predict whether a baby is born prematurely or not (OEGest_R3) with the following predictors: mother's education level (MEDUC), mother's age (MAGER), number of prenatal visits (PREVIS_REC), whether mother smoked cigarettes ever (CIG_REC), delivery method (DMETH_REC), and baby's birth weight in pounds (dbwtlbs).  \n",
    "\n",
    "*The \"best\" means you should choose among a set of models either manually, using a criterion, or automatic selection. CIG_REC should be treated as a categorical predictor with Yes being the reference level. DMETH_REC should be treated as a categorical predictor with Vaginal being the reference level. Do not partition the data into training and testing sets.*\n",
    "\n",
    "What is the model telling us? Describe the results of the model and how good it is at predicting a baby's birth weight. (SAS, GLM - Logistic Regression, Data Visualization, Markdown)"
   ]
  },
  {
   "cell_type": "code",
   "execution_count": null,
   "metadata": {},
   "outputs": [],
   "source": []
  },
  {
   "cell_type": "markdown",
   "metadata": {},
   "source": [
    "**#10** Using SAS code and beginning with the birtha data in **Problem 4**, use a \"best\" linear discriminant analysis to predict whether a baby is born prematurely or not (OEGest_R3) with the following predictors: mother's education level (MEDUC), mother's age (MAGER), number of prenatal visits (PREVIS_REC), whether mother smoked cigarettes ever (CIG_REC), delivery method (DMETH_REC), and baby's birth weight in pounds (dbwtlbs).\n",
    "\n",
    "*The \"best\" means you should choose among a set of models either manually, using a criterion, or automatic selection. CIG_REC should be treated as a categorical predictor with Yes being the reference level. DMETH_REC should be treated as a categorical predictor with Vaginal being the reference level.* **This is a trick question!** *Do not partition the data into training and testing sets.*\n",
    "\n",
    "What is the model telling us? Describe the results of the model and how good it is at predicting a baby's birth weight. (SAS, Discriminant Analysis, Data Visualization, Markdown)"
   ]
  },
  {
   "cell_type": "code",
   "execution_count": null,
   "metadata": {},
   "outputs": [],
   "source": []
  },
  {
   "cell_type": "markdown",
   "metadata": {},
   "source": [
    "**#00** The **designated submitter** should commit and push the file to their repo with the commit message \"All Done\"."
   ]
  }
 ],
 "metadata": {
  "kernelspec": {
   "display_name": "SAS",
   "language": "sas",
   "name": "sas"
  },
  "language_info": {
   "codemirror_mode": "sas",
   "file_extension": ".sas",
   "mimetype": "text/x-sas",
   "name": "sas"
  }
 },
 "nbformat": 4,
 "nbformat_minor": 2
}
