{
 "cells": [
  {
   "cell_type": "markdown",
   "metadata": {},
   "source": [
    "## Station Quiz - Week 2\n",
    "\n",
    "Grading Rubric (per question):  \n",
    "2 points if complete and correct  \n",
    "1 point if incomplete or incorrect  \n",
    "0 points if no attempt made  \n",
    "\n",
    "The following questions should be completed with your mates at the station you decided to sit at today. Your station should designate one person to be the one who submits (commits/pushes) the answers to the quiz in their repo. We'll call this person the \"designated submitter\". You all have 50 minutes (i.e. the end of class) to complete these questions. Do not change anything in this file above the line.\n",
    "\n",
    "\n",
    "***\n",
    "\n",
    "0. Pull this ipynb file from your respective **assignments_section_sp20** repo; either **assignments_section2_sp20** or **assignments_section3_sp20**. Copy it into your personal repo to begin answering the questions, but rename the file as station_quiz_week_02_Netid.ipynb with your Netid. (GitHub)\n",
    "\n",
    "1. Using Markdown syntax (not SAS syntax), make a list of the first and last names all mates (including yourself) at your station. Be sure to write the designated submitter's name in bold font. (Markdown)  \n",
    "2. Look through the Datasets file which contains basic information about the **SBA Loans Data** (see course website). Read about it and use SAS and the DATA step to import the data from the URL. Rename the data object as \"sba\". (SAS, Accessing and Importing Data)  \n",
    "3. After importing, run the following code on your already read-in data: (SAS)\n",
    "```\n",
    "proc contents data=sba;\n",
    "run;\n",
    "proc print data=sba (obs=10);\n",
    "run;\n",
    "```  \n",
    "4. In SAS, notice that when you print out the first 10 observations (with PROC PRINT) of the sba dataset, several columns are truncated in character value. To fix this, we need to add a **length** statement to the DATA step above. Read the following link for more details https://documentation.sas.com/?docsetId=lestmtsref&docsetTarget=p1hgqgmxm3dpqcn1d4w5za5qbz0d.htm&docsetVersion=9.4&locale=en. Add a **length** statement that allows the character variables to be in the correct length for viewing.  \n",
    "5. Using the visualization below, answer the following questions with Markdown syntax.\n",
    "  - What's happening in the visualization?\n",
    "  - What do you think the subject matter is?\n",
    "  - What's not clear about it?\n",
    "  - Come up with an interesting main title.  \n",
    "![](https://uofi.box.com/shared/static/urp5kqjihk8a6fcb3c9fepa2ntjp1wd4.png)  \n",
    "6. Now, physically move to another station and ask one person the same questions in **Problem 5** (above). Write down their first and last name as well as their answers to those questions get credit for this **Problem 6** with Markdown syntax.  \n",
    "7. With SAS, create a new subset of the SBA Business Loans Data that contains the following 8 variables: Name, City, State, ApprovalFY (approval year), NoEmp (number of employees), MIS_Status (either charged off or paid in full), GrAppv (gross approved amount), and SBA_Appv (SBA approved amount).  \n",
    "Now, show only the first 10 rows of the new subset with the columns in this order of appearance sorted by ApprovalFY from oldest to newest order. (SAS, Data Wrangling)  \n",
    "8. With SAS, using the subset from **Problem 7** ,\n",
    "  - rename the variables: NoEmp to \"Total_Employees\", ApprovalFY to \"Approval_Year\", MIS_Status to \"Loan_Status\", GrAppv to \"Gross_Approved_Amount\", and SBA_Appv to \"SBA_Approved_Amount\"\n",
    "  - creates “SBA_Guaranteed_Proportion” which equals SBA Approved Amount divided by Gross Approved Amount\n",
    "  - creates “Business_Size” which equals “Small” if the Total Employees is 1, “Medium” if the Total Employees is 2-20, and “Large” if the Total Employees is greater than 20\n",
    "  - filter so that we only keep observations from Dover, Delaware.  \n",
    "Now, show only the first 10 rows of the subset. (SAS, Data Wrangling)  \n",
    "9. With SAS, create and name a data subset \"basicstats\" that builds from **Problem 8** and adheres to the following conditions.\n",
    "  - remove all NA or missing values before doing the computation  \n",
    "  - computes the mean, median, mode (most frequent value), variance, and standard deviation for the Gross Approved Amount per Business Size per Approval Year  \n",
    "  - this subset should have 1 row per Approval Year and Business Size combination  \n",
    "Now, show the first 15 rows of \"basicstats\". (SAS, Data Wrangling)  \n",
    "10. With SAS, create and name a data subset \"props\" that builds from **Problem 8** and adheres to the following conditions.\n",
    "  - remove all NA or missing values before doing the computation  \n",
    "  - computes the average SBA Guaranteed Proportion per Loan Status per State  \n",
    "  - sort the results by the average SBA Guaranteed Proportion  \n",
    "Now, show the first 10 rows of \"props\". (SAS, Data Wrangling)\n"
   ]
  }
 ],
 "metadata": {
  "kernelspec": {
   "display_name": "SAS",
   "language": "sas",
   "name": "sas"
  },
  "language_info": {
   "codemirror_mode": "sas",
   "file_extension": ".sas",
   "mimetype": "text/x-sas",
   "name": "sas"
  }
 },
 "nbformat": 4,
 "nbformat_minor": 2
}
